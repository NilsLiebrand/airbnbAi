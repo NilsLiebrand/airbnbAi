{
 "cells": [
  {
   "cell_type": "code",
   "execution_count": 1,
   "id": "5960369c",
   "metadata": {
    "_cell_guid": "b1076dfc-b9ad-4769-8c92-a6c4dae69d19",
    "_uuid": "8f2839f25d086af736a60e9eeb907d3b93b6e0e5",
    "execution": {
     "iopub.execute_input": "2025-06-24T11:08:45.017686Z",
     "iopub.status.busy": "2025-06-24T11:08:45.017424Z",
     "iopub.status.idle": "2025-06-24T11:08:45.024556Z",
     "shell.execute_reply": "2025-06-24T11:08:45.023907Z"
    },
    "papermill": {
     "duration": 0.013365,
     "end_time": "2025-06-24T11:08:45.025809",
     "exception": false,
     "start_time": "2025-06-24T11:08:45.012444",
     "status": "completed"
    },
    "tags": []
   },
   "outputs": [],
   "source": [
    "import os\n",
    "#for dirname, _, filenames in os.walk('/kaggle/input'):\n",
    "#    for filename in filenames:\n",
    "        #print(os.path.join(dirname, filename))\n"
   ]
  },
  {
   "cell_type": "code",
   "execution_count": 2,
   "id": "c6fcfb3a",
   "metadata": {
    "execution": {
     "iopub.execute_input": "2025-06-24T11:08:45.033286Z",
     "iopub.status.busy": "2025-06-24T11:08:45.032679Z",
     "iopub.status.idle": "2025-06-24T11:08:51.589327Z",
     "shell.execute_reply": "2025-06-24T11:08:51.588711Z"
    },
    "papermill": {
     "duration": 6.561587,
     "end_time": "2025-06-24T11:08:51.590718",
     "exception": false,
     "start_time": "2025-06-24T11:08:45.029131",
     "status": "completed"
    },
    "tags": []
   },
   "outputs": [],
   "source": [
    "import os\n",
    "import numpy as np\n",
    "import pandas as pd\n",
    "import torch\n",
    "from torch import nn\n",
    "from torch.utils.data import Dataset, DataLoader, random_split\n",
    "from sklearn.model_selection import train_test_split\n",
    "from sklearn.impute import SimpleImputer\n",
    "import matplotlib.pyplot as plt\n",
    "\n",
    "#progress bar\n",
    "from tqdm import trange\n",
    "from tqdm import tqdm"
   ]
  },
  {
   "cell_type": "code",
   "execution_count": 3,
   "id": "76559e89",
   "metadata": {
    "execution": {
     "iopub.execute_input": "2025-06-24T11:08:51.598440Z",
     "iopub.status.busy": "2025-06-24T11:08:51.598104Z",
     "iopub.status.idle": "2025-06-24T11:08:51.687522Z",
     "shell.execute_reply": "2025-06-24T11:08:51.686940Z"
    },
    "papermill": {
     "duration": 0.094304,
     "end_time": "2025-06-24T11:08:51.688599",
     "exception": false,
     "start_time": "2025-06-24T11:08:51.594295",
     "status": "completed"
    },
    "tags": []
   },
   "outputs": [
    {
     "data": {
      "text/plain": [
       "(True, True, 1, 0)"
      ]
     },
     "execution_count": 3,
     "metadata": {},
     "output_type": "execute_result"
    }
   ],
   "source": [
    "torch.set_default_dtype(torch.float64)\n",
    "torch.cuda.is_available(), torch.backends.cudnn.is_available(), torch.cuda.device_count(), torch.cuda.current_device()"
   ]
  },
  {
   "cell_type": "code",
   "execution_count": 4,
   "id": "741c43d7",
   "metadata": {
    "execution": {
     "iopub.execute_input": "2025-06-24T11:08:51.695937Z",
     "iopub.status.busy": "2025-06-24T11:08:51.695679Z",
     "iopub.status.idle": "2025-06-24T11:08:51.700717Z",
     "shell.execute_reply": "2025-06-24T11:08:51.700058Z"
    },
    "papermill": {
     "duration": 0.00995,
     "end_time": "2025-06-24T11:08:51.701805",
     "exception": false,
     "start_time": "2025-06-24T11:08:51.691855",
     "status": "completed"
    },
    "tags": []
   },
   "outputs": [
    {
     "name": "stdout",
     "output_type": "stream",
     "text": [
      "Using device cuda:0\n"
     ]
    }
   ],
   "source": [
    "use_cuda = True\n",
    "use_cuda = False if not use_cuda else torch.cuda.is_available()\n",
    "device = torch.device('cuda:0' if use_cuda else 'cpu')\n",
    "torch.cuda.get_device_name(device) if use_cuda else 'cpu'\n",
    "print('Using device', device)"
   ]
  },
  {
   "cell_type": "code",
   "execution_count": 5,
   "id": "987fe3d4",
   "metadata": {
    "execution": {
     "iopub.execute_input": "2025-06-24T11:08:51.709212Z",
     "iopub.status.busy": "2025-06-24T11:08:51.708572Z",
     "iopub.status.idle": "2025-06-24T11:08:57.673352Z",
     "shell.execute_reply": "2025-06-24T11:08:57.672743Z"
    },
    "papermill": {
     "duration": 5.969838,
     "end_time": "2025-06-24T11:08:57.674771",
     "exception": false,
     "start_time": "2025-06-24T11:08:51.704933",
     "status": "completed"
    },
    "tags": []
   },
   "outputs": [],
   "source": [
    "# Load and filter data\n",
    "data = pd.read_csv(\"/kaggle/input/airbnbdata-barcelona/listing_data.csv\")\n",
    "data = data.select_dtypes(exclude=['object', 'string'])\n",
    "data = data.drop(\"id\", axis=1)\n",
    "\n",
    "# Define target column\n",
    "target_clm = \"price\"\n",
    "\n",
    "# Drop rows with missing target\n",
    "data = data.dropna(subset=[target_clm])\n",
    "\n",
    "# Create an imputer that fills NaNs with the mean of each column\n",
    "imputer = SimpleImputer(strategy='mean')\n",
    "\n",
    "# Fit the imputer on your data and transform it\n",
    "data_imputed = imputer.fit_transform(data)\n",
    "\n",
    "# Convert back to DataFrame to keep column names\n",
    "data = pd.DataFrame(data_imputed, columns=data.columns)  "
   ]
  },
  {
   "cell_type": "code",
   "execution_count": 6,
   "id": "f5e36880",
   "metadata": {
    "execution": {
     "iopub.execute_input": "2025-06-24T11:08:57.683468Z",
     "iopub.status.busy": "2025-06-24T11:08:57.683214Z",
     "iopub.status.idle": "2025-06-24T11:08:58.236893Z",
     "shell.execute_reply": "2025-06-24T11:08:58.236092Z"
    },
    "papermill": {
     "duration": 0.559371,
     "end_time": "2025-06-24T11:08:58.238516",
     "exception": false,
     "start_time": "2025-06-24T11:08:57.679145",
     "status": "completed"
    },
    "tags": []
   },
   "outputs": [],
   "source": [
    "test_size = 0.2\n",
    "train_df, test_df = train_test_split(data, test_size=test_size, random_state=42)\n",
    "\n",
    "# Normalization stats from training data\n",
    "train_mean = train_df.drop(target_clm, axis=1).mean().astype(np.float32).values\n",
    "train_std = train_df.drop(target_clm, axis=1).std().replace(0, 1).astype(np.float32).values\n"
   ]
  },
  {
   "cell_type": "code",
   "execution_count": 7,
   "id": "335d6642",
   "metadata": {
    "execution": {
     "iopub.execute_input": "2025-06-24T11:08:58.251055Z",
     "iopub.status.busy": "2025-06-24T11:08:58.250780Z",
     "iopub.status.idle": "2025-06-24T11:08:58.256168Z",
     "shell.execute_reply": "2025-06-24T11:08:58.255491Z"
    },
    "papermill": {
     "duration": 0.013058,
     "end_time": "2025-06-24T11:08:58.257470",
     "exception": false,
     "start_time": "2025-06-24T11:08:58.244412",
     "status": "completed"
    },
    "tags": []
   },
   "outputs": [],
   "source": [
    "class TabularDataset(Dataset):\n",
    "    def __init__(self, df, target_clm, mean=None, std=None, normalize=True):\n",
    "        self.X = df.drop(target_clm, axis=1).to_numpy(dtype=np.float32)\n",
    "        self.y = df[target_clm].to_numpy(dtype=np.float32)\n",
    "        self.mean = mean\n",
    "        self.std = std\n",
    "        self.normalize = normalize\n",
    "\n",
    "    def __len__(self):\n",
    "        return len(self.X)\n",
    "\n",
    "    def __getitem__(self, idx):\n",
    "        x = self.X[idx]\n",
    "        if self.normalize and self.mean is not None and self.std is not None:\n",
    "            x = (x - self.mean) / self.std\n",
    "        return torch.tensor(x, dtype=torch.float32), torch.tensor(self.y[idx], dtype=torch.float32)\n"
   ]
  },
  {
   "cell_type": "code",
   "execution_count": 8,
   "id": "9a1e5bdf",
   "metadata": {
    "execution": {
     "iopub.execute_input": "2025-06-24T11:08:58.269631Z",
     "iopub.status.busy": "2025-06-24T11:08:58.269370Z",
     "iopub.status.idle": "2025-06-24T11:08:58.449512Z",
     "shell.execute_reply": "2025-06-24T11:08:58.448839Z"
    },
    "papermill": {
     "duration": 0.187592,
     "end_time": "2025-06-24T11:08:58.450955",
     "exception": false,
     "start_time": "2025-06-24T11:08:58.263363",
     "status": "completed"
    },
    "tags": []
   },
   "outputs": [],
   "source": [
    "# Datasets\n",
    "train_dataset_full = TabularDataset(train_df, target_clm, train_mean, train_std, normalize=True)\n",
    "test_dataset = TabularDataset(test_df, target_clm, train_mean, train_std, normalize=True)\n",
    "\n",
    "# Split train/val\n",
    "torch.manual_seed(0)\n",
    "val_ratio = 0.1\n",
    "train_dataset, val_dataset = random_split(train_dataset_full, [1 - val_ratio, val_ratio])\n",
    "\n",
    "# DataLoaders\n",
    "batch_size = 128\n",
    "train_loader = DataLoader(train_dataset, batch_size=batch_size, shuffle=True)\n",
    "val_loader = DataLoader(val_dataset, batch_size=batch_size)\n",
    "test_loader = DataLoader(test_dataset, batch_size=batch_size)\n",
    "\n"
   ]
  },
  {
   "cell_type": "code",
   "execution_count": 9,
   "id": "fc91f47d",
   "metadata": {
    "execution": {
     "iopub.execute_input": "2025-06-24T11:08:58.459067Z",
     "iopub.status.busy": "2025-06-24T11:08:58.458492Z",
     "iopub.status.idle": "2025-06-24T11:08:58.463635Z",
     "shell.execute_reply": "2025-06-24T11:08:58.463014Z"
    },
    "papermill": {
     "duration": 0.010052,
     "end_time": "2025-06-24T11:08:58.464635",
     "exception": false,
     "start_time": "2025-06-24T11:08:58.454583",
     "status": "completed"
    },
    "tags": []
   },
   "outputs": [],
   "source": [
    "class LinearRegressionModel(nn.Module):\n",
    "    def __init__(self, input_dim):\n",
    "        super().__init__()\n",
    "        self.linear = nn.Linear(input_dim, 1)\n",
    "\n",
    "    def forward(self, x):\n",
    "        return self.linear(x).squeeze()  # Squeeze to match target shape\n"
   ]
  },
  {
   "cell_type": "code",
   "execution_count": 10,
   "id": "6e70837e",
   "metadata": {
    "execution": {
     "iopub.execute_input": "2025-06-24T11:08:58.472040Z",
     "iopub.status.busy": "2025-06-24T11:08:58.471597Z",
     "iopub.status.idle": "2025-06-24T11:09:02.872741Z",
     "shell.execute_reply": "2025-06-24T11:09:02.871971Z"
    },
    "papermill": {
     "duration": 4.406386,
     "end_time": "2025-06-24T11:09:02.874215",
     "exception": false,
     "start_time": "2025-06-24T11:08:58.467829",
     "status": "completed"
    },
    "tags": []
   },
   "outputs": [],
   "source": [
    "# Device setup\n",
    "device = torch.device(\"cuda\" if torch.cuda.is_available() else \"cpu\")\n",
    "\n",
    "# Instantiate model\n",
    "input_dim = train_df.drop(target_clm, axis=1).shape[1]\n",
    "model = LinearRegressionModel(input_dim).to(device)\n",
    "model = model.float()\n",
    "# Loss and optimizer\n",
    "criterion = nn.MSELoss()\n",
    "optimizer = torch.optim.Adam(model.parameters(), lr=0.01)\n"
   ]
  },
  {
   "cell_type": "code",
   "execution_count": 11,
   "id": "07d3878f",
   "metadata": {
    "execution": {
     "iopub.execute_input": "2025-06-24T11:09:02.882124Z",
     "iopub.status.busy": "2025-06-24T11:09:02.881774Z",
     "iopub.status.idle": "2025-06-24T11:09:03.053945Z",
     "shell.execute_reply": "2025-06-24T11:09:03.053071Z"
    },
    "papermill": {
     "duration": 0.177623,
     "end_time": "2025-06-24T11:09:03.055337",
     "exception": false,
     "start_time": "2025-06-24T11:09:02.877714",
     "status": "completed"
    },
    "tags": []
   },
   "outputs": [
    {
     "name": "stdout",
     "output_type": "stream",
     "text": [
      "Any NaN in features?  False\n",
      "Any NaN in target?  False\n"
     ]
    }
   ],
   "source": [
    "print(\"Any NaN in features? \", np.isnan(data.drop(target_clm, axis=1).to_numpy()).any())\n",
    "print(\"Any NaN in target? \", np.isnan(data[target_clm].to_numpy()).any())"
   ]
  },
  {
   "cell_type": "code",
   "execution_count": 12,
   "id": "d2e12181",
   "metadata": {
    "execution": {
     "iopub.execute_input": "2025-06-24T11:09:03.062939Z",
     "iopub.status.busy": "2025-06-24T11:09:03.062678Z",
     "iopub.status.idle": "2025-06-24T11:09:03.067279Z",
     "shell.execute_reply": "2025-06-24T11:09:03.066770Z"
    },
    "papermill": {
     "duration": 0.009452,
     "end_time": "2025-06-24T11:09:03.068247",
     "exception": false,
     "start_time": "2025-06-24T11:09:03.058795",
     "status": "completed"
    },
    "tags": []
   },
   "outputs": [],
   "source": [
    "def train(dataloader, optimizer, model, loss_fn, device, master_bar):\n",
    "    model.train()\n",
    "    train_loss = 0.0\n",
    "    for batch in dataloader:\n",
    "        X, y = batch\n",
    "        X, y = X.to(device), y.to(device)\n",
    "\n",
    "        #Forward pass\n",
    "        optimizer.zero_grad()\n",
    "        outputs = model(X)\n",
    "        loss = loss_fn(outputs, y)\n",
    "\n",
    "        #Backward pass\n",
    "        loss.backward()\n",
    "        optimizer.step()\n",
    "\n",
    "        #calculate step quality\n",
    "        train_loss += loss.item()\n",
    "\n",
    "        master_bar.set_description(f\"Epoch {master_bar.n + 1} (Train)\")\n",
    "        master_bar.set_postfix(loss=f\"{loss.item():.3f}\")\n",
    "\n",
    "    return train_loss / len(dataloader)\n",
    "\n",
    "        "
   ]
  },
  {
   "cell_type": "code",
   "execution_count": 13,
   "id": "b1f84237",
   "metadata": {
    "execution": {
     "iopub.execute_input": "2025-06-24T11:09:03.075292Z",
     "iopub.status.busy": "2025-06-24T11:09:03.075099Z",
     "iopub.status.idle": "2025-06-24T11:09:03.079365Z",
     "shell.execute_reply": "2025-06-24T11:09:03.078869Z"
    },
    "papermill": {
     "duration": 0.00893,
     "end_time": "2025-06-24T11:09:03.080353",
     "exception": false,
     "start_time": "2025-06-24T11:09:03.071423",
     "status": "completed"
    },
    "tags": []
   },
   "outputs": [],
   "source": [
    "def validate(dataloader, model, loss_fn, device, master_bar):\n",
    "    model.eval()\n",
    "    val_loss = 0\n",
    "\n",
    "    with torch.no_grad():\n",
    "        for batch in dataloader:\n",
    "            X, y = batch\n",
    "            X, y = X.to(device), y.to(device)\n",
    "\n",
    "            #validate\n",
    "            outputs = model(X)\n",
    "            loss = loss_fn(outputs, y)\n",
    "            val_loss += loss.item()\n",
    "\n",
    "            master_bar.set_description(f\"Epoch {master_bar.n + 1} (Validate)\")\n",
    "            master_bar.set_postfix(loss=f\"{loss.item():.3f}\")\n",
    "    \n",
    "    return val_loss / len(dataloader)"
   ]
  },
  {
   "cell_type": "code",
   "execution_count": 14,
   "id": "b86ab461",
   "metadata": {
    "execution": {
     "iopub.execute_input": "2025-06-24T11:09:03.087277Z",
     "iopub.status.busy": "2025-06-24T11:09:03.087082Z",
     "iopub.status.idle": "2025-06-24T11:09:03.091112Z",
     "shell.execute_reply": "2025-06-24T11:09:03.090448Z"
    },
    "papermill": {
     "duration": 0.008811,
     "end_time": "2025-06-24T11:09:03.092248",
     "exception": false,
     "start_time": "2025-06-24T11:09:03.083437",
     "status": "completed"
    },
    "tags": []
   },
   "outputs": [],
   "source": [
    "def run_training(model, optimizer, loss_function, device, num_epochs, train_dataloader, val_dataloader):\n",
    "    train_losses = []\n",
    "    val_losses = []\n",
    "\n",
    "    master_bar = trange(num_epochs, desc=\"Training Epochs\")\n",
    "    for epoch in master_bar:\n",
    "        train_loss = train(train_dataloader, optimizer, model, loss_function, device, master_bar)\n",
    "        val_loss = validate(val_dataloader, model, loss_function, device, master_bar)\n",
    "\n",
    "        train_losses.append(train_loss)\n",
    "        val_losses.append(val_loss)\n",
    "\n",
    "    return train_losses, val_losses"
   ]
  },
  {
   "cell_type": "code",
   "execution_count": 15,
   "id": "82fc05dd",
   "metadata": {
    "execution": {
     "iopub.execute_input": "2025-06-24T11:09:03.099776Z",
     "iopub.status.busy": "2025-06-24T11:09:03.099341Z",
     "iopub.status.idle": "2025-06-24T11:09:03.103219Z",
     "shell.execute_reply": "2025-06-24T11:09:03.102711Z"
    },
    "papermill": {
     "duration": 0.008457,
     "end_time": "2025-06-24T11:09:03.104237",
     "exception": false,
     "start_time": "2025-06-24T11:09:03.095780",
     "status": "completed"
    },
    "tags": []
   },
   "outputs": [],
   "source": [
    "def evaluate_model(model, dataloader, device):\n",
    "    model.eval()\n",
    "    model.to(device)\n",
    "    absolute_errors = []\n",
    "\n",
    "    with torch.no_grad():\n",
    "        for batch in dataloader:\n",
    "            # Assumes batch is (inputs, targets)\n",
    "            inputs, targets = batch\n",
    "            inputs, targets = inputs.to(device), targets.to(device)\n",
    "\n",
    "            predictions = model(inputs)\n",
    "            abs_errors = abs(predictions - targets)\n",
    "            \n",
    "            absolute_errors.extend(abs_errors.cpu().numpy())\n",
    "\n",
    "    return np.array(absolute_errors)"
   ]
  },
  {
   "cell_type": "code",
   "execution_count": 16,
   "id": "ad78ea16",
   "metadata": {
    "execution": {
     "iopub.execute_input": "2025-06-24T11:09:03.111134Z",
     "iopub.status.busy": "2025-06-24T11:09:03.110963Z",
     "iopub.status.idle": "2025-06-24T11:09:03.115232Z",
     "shell.execute_reply": "2025-06-24T11:09:03.114780Z"
    },
    "papermill": {
     "duration": 0.0089,
     "end_time": "2025-06-24T11:09:03.116232",
     "exception": false,
     "start_time": "2025-06-24T11:09:03.107332",
     "status": "completed"
    },
    "tags": []
   },
   "outputs": [],
   "source": [
    "def plot_accuracy(errors, bins = 10, min_range = None, max_range = None):\n",
    "\n",
    "    if min_range is None:\n",
    "        min_range = min(errors)\n",
    "    if max_range is None:\n",
    "        max_range = max(errors)\n",
    "\n",
    "    counts, bin_edges = np.histogram(errors, bins=bins, range=(min_range, max_range))\n",
    "\n",
    "    percentages = 100 * counts / counts.sum()\n",
    "\n",
    "    bin_widths = bin_edges[1:] - bin_edges[:-1]\n",
    "\n",
    "    plt.bar(bin_edges[:-1], percentages, width = bin_widths, align = 'edge', edgecolor='black')\n",
    "    plt.xlabel(\"Absolute Error\")\n",
    "    plt.ylabel(\"Percentage (%)\")\n",
    "    plt.title(\"Percentage Distribution of Absolute Errors\")\n",
    "    \n",
    "    #plt.hist(errors, bins, range=(min_range, max_range), density=True)\n",
    "    plt.grid(True)\n",
    "    plt.show() "
   ]
  },
  {
   "cell_type": "code",
   "execution_count": 17,
   "id": "44f67e6c",
   "metadata": {
    "execution": {
     "iopub.execute_input": "2025-06-24T11:09:03.123078Z",
     "iopub.status.busy": "2025-06-24T11:09:03.122908Z",
     "iopub.status.idle": "2025-06-24T11:09:24.800042Z",
     "shell.execute_reply": "2025-06-24T11:09:24.799165Z"
    },
    "papermill": {
     "duration": 21.682061,
     "end_time": "2025-06-24T11:09:24.801380",
     "exception": false,
     "start_time": "2025-06-24T11:09:03.119319",
     "status": "completed"
    },
    "tags": []
   },
   "outputs": [
    {
     "name": "stderr",
     "output_type": "stream",
     "text": [
      "Epoch 20 (Validate): 100%|██████████| 20/20 [00:21<00:00,  1.08s/it, loss=22214.340]\n"
     ]
    },
    {
     "data": {
      "text/plain": [
       "([98187.31823508523,\n",
       "  95730.27414772728,\n",
       "  94238.40447443182,\n",
       "  92570.79653764205,\n",
       "  91405.28625710227,\n",
       "  90781.19638671874,\n",
       "  89387.10639204546,\n",
       "  88890.80958806818,\n",
       "  87850.16787109376,\n",
       "  87216.86732066762,\n",
       "  86381.19244495739,\n",
       "  86286.57353515625,\n",
       "  85523.41254438921,\n",
       "  84729.20263671875,\n",
       "  84093.43100142045,\n",
       "  83555.15596590909,\n",
       "  83207.73271484375,\n",
       "  82642.01211825284,\n",
       "  82212.97687322443,\n",
       "  81738.07708629261],\n",
       " [114213.56512920673,\n",
       "  114612.86899038461,\n",
       "  115798.93719951923,\n",
       "  117592.99812199519,\n",
       "  120083.857421875,\n",
       "  123173.25826322116,\n",
       "  126820.61989182692,\n",
       "  131142.53740985578,\n",
       "  135934.26690204328,\n",
       "  141173.73121995194,\n",
       "  147023.44921875,\n",
       "  153389.0390625,\n",
       "  160274.37387319712,\n",
       "  167492.27373798078,\n",
       "  175276.4696514423,\n",
       "  183595.66233473556,\n",
       "  192378.22220552884,\n",
       "  201729.82669771634,\n",
       "  211441.39272836538,\n",
       "  221657.8036358173])"
      ]
     },
     "execution_count": 17,
     "metadata": {},
     "output_type": "execute_result"
    }
   ],
   "source": [
    "epochs=20\n",
    "\n",
    "run_training(model, optimizer, criterion, device, epochs, train_loader, val_loader)\n",
    "\n"
   ]
  },
  {
   "cell_type": "code",
   "execution_count": 18,
   "id": "42b26852",
   "metadata": {
    "execution": {
     "iopub.execute_input": "2025-06-24T11:09:25.259735Z",
     "iopub.status.busy": "2025-06-24T11:09:25.259439Z",
     "iopub.status.idle": "2025-06-24T11:09:25.708322Z",
     "shell.execute_reply": "2025-06-24T11:09:25.707550Z"
    },
    "papermill": {
     "duration": 0.644712,
     "end_time": "2025-06-24T11:09:25.709550",
     "exception": false,
     "start_time": "2025-06-24T11:09:25.064838",
     "status": "completed"
    },
    "tags": []
   },
   "outputs": [
    {
     "data": {
      "image/png": "[encoded data removed]",
      "text/plain": [
       "<Figure size 640x480 with 1 Axes>"
      ]
     },
     "metadata": {},
     "output_type": "display_data"
    }
   ],
   "source": [
    "#evaluate\n",
    "err = evaluate_model(model, test_loader, device)\n",
    "plot_accuracy(err, min_range = 0, max_range = 300)"
   ]
  },
  {
   "cell_type": "code",
   "execution_count": null,
   "id": "c2db0755",
   "metadata": {
    "papermill": {
     "duration": 0.190595,
     "end_time": "2025-06-24T11:09:26.090004",
     "exception": false,
     "start_time": "2025-06-24T11:09:25.899409",
     "status": "completed"
    },
    "tags": []
   },
   "outputs": [],
   "source": []
  },
  {
   "cell_type": "code",
   "execution_count": 19,
   "id": "f2cd31a2",
   "metadata": {
    "execution": {
     "iopub.execute_input": "2025-06-24T11:09:26.533280Z",
     "iopub.status.busy": "2025-06-24T11:09:26.533007Z",
     "iopub.status.idle": "2025-06-24T11:09:43.425059Z",
     "shell.execute_reply": "2025-06-24T11:09:43.424039Z"
    },
    "papermill": {
     "duration": 17.1453,
     "end_time": "2025-06-24T11:09:43.426546",
     "exception": false,
     "start_time": "2025-06-24T11:09:26.281246",
     "status": "completed"
    },
    "tags": []
   },
   "outputs": [
    {
     "name": "stdout",
     "output_type": "stream",
     "text": [
      "Epoch 01 | Train Loss: 81334.7219 | Val Loss: 232445.8934\n",
      "Epoch 02 | Train Loss: 81059.6921 | Val Loss: 243389.5793\n",
      "Epoch 03 | Train Loss: 80494.7336 | Val Loss: 255026.0433\n",
      "Epoch 04 | Train Loss: 80202.3862 | Val Loss: 266785.0207\n",
      "Epoch 05 | Train Loss: 79776.1358 | Val Loss: 279441.9848\n",
      "Epoch 06 | Train Loss: 79420.6702 | Val Loss: 292111.5732\n",
      "Epoch 07 | Train Loss: 79343.5416 | Val Loss: 305554.4409\n",
      "Epoch 08 | Train Loss: 78765.4606 | Val Loss: 319314.1227\n",
      "Epoch 09 | Train Loss: 78505.7255 | Val Loss: 333572.6988\n",
      "Epoch 10 | Train Loss: 78049.4785 | Val Loss: 348147.6075\n",
      "Epoch 11 | Train Loss: 77772.6945 | Val Loss: 363115.9778\n",
      "Epoch 12 | Train Loss: 77915.2990 | Val Loss: 378541.4411\n",
      "Epoch 13 | Train Loss: 77283.8929 | Val Loss: 394566.7138\n",
      "Epoch 14 | Train Loss: 76942.1412 | Val Loss: 410777.5491\n",
      "Epoch 15 | Train Loss: 85174.0232 | Val Loss: 427594.0552\n",
      "Epoch 16 | Train Loss: 76528.6855 | Val Loss: 445095.7477\n",
      "Epoch 17 | Train Loss: 76163.6337 | Val Loss: 462378.4920\n",
      "Epoch 18 | Train Loss: 75796.1579 | Val Loss: 479969.8686\n",
      "Epoch 19 | Train Loss: 75516.9590 | Val Loss: 498197.3166\n",
      "Epoch 20 | Train Loss: 75330.8583 | Val Loss: 516851.2198\n"
     ]
    }
   ],
   "source": [
    "epochs = 20\n",
    "for epoch in range(epochs):\n",
    "    model.train()\n",
    "    train_loss = 0.0\n",
    "\n",
    "    for X_batch, y_batch in train_loader:\n",
    "        X_batch = X_batch.to(device).float()\n",
    "        y_batch = y_batch.to(device).float()\n",
    "        \n",
    "        preds = model(X_batch)\n",
    "        loss = criterion(preds, y_batch)\n",
    "\n",
    "        optimizer.zero_grad()\n",
    "        loss.backward()\n",
    "        optimizer.step()\n",
    "\n",
    "        train_loss += loss.item()\n",
    "\n",
    "    model.eval()\n",
    "    val_loss = 0.0\n",
    "    with torch.no_grad():\n",
    "        for X_val, y_val in val_loader:\n",
    "            X_val = X_val.to(device).float()\n",
    "            y_val = y_val.to(device).float()\n",
    "\n",
    "            val_preds = model(X_val)\n",
    "            val_loss += criterion(val_preds, y_val).item()\n",
    "\n",
    "    print(f\"Epoch {epoch+1:02d} | Train Loss: {train_loss/len(train_loader):.4f} | Val Loss: {val_loss/len(val_loader):.4f}\")\n"
   ]
  },
  {
   "cell_type": "code",
   "execution_count": 20,
   "id": "cf7c7bf2",
   "metadata": {
    "execution": {
     "iopub.execute_input": "2025-06-24T11:09:43.811420Z",
     "iopub.status.busy": "2025-06-24T11:09:43.810887Z",
     "iopub.status.idle": "2025-06-24T11:09:44.004926Z",
     "shell.execute_reply": "2025-06-24T11:09:44.004084Z"
    },
    "papermill": {
     "duration": 0.385931,
     "end_time": "2025-06-24T11:09:44.006290",
     "exception": false,
     "start_time": "2025-06-24T11:09:43.620359",
     "status": "completed"
    },
    "tags": []
   },
   "outputs": [
    {
     "name": "stdout",
     "output_type": "stream",
     "text": [
      "\n",
      "Test MSE: 138356.5608\n"
     ]
    }
   ],
   "source": [
    "model.eval()\n",
    "test_loss = 0.0\n",
    "with torch.no_grad():\n",
    "    for X_test, y_test in test_loader:\n",
    "        X_test = X_test.to(device)\n",
    "        y_test = y_test.to(device)\n",
    "\n",
    "        test_preds = model(X_test)\n",
    "        test_loss += criterion(test_preds, y_test).item()\n",
    "\n",
    "print(f\"\\nTest MSE: {test_loss/len(test_loader):.4f}\")\n"
   ]
  }
 ],
 "metadata": {
  "kaggle": {
   "accelerator": "gpu",
   "dataSources": [
    {
     "datasetId": 7719588,
     "sourceId": 12251642,
     "sourceType": "datasetVersion"
    },
    {
     "datasetId": 7715214,
     "sourceId": 12265748,
     "sourceType": "datasetVersion"
    }
   ],
   "dockerImageVersionId": 31041,
   "isGpuEnabled": true,
   "isInternetEnabled": true,
   "language": "python",
   "sourceType": "notebook"
  },
  "kernelspec": {
   "display_name": "Python 3",
   "language": "python",
   "name": "python3"
  },
  "language_info": {
   "codemirror_mode": {
    "name": "ipython",
    "version": 3
   },
   "file_extension": ".py",
   "mimetype": "text/x-python",
   "name": "python",
   "nbconvert_exporter": "python",
   "pygments_lexer": "ipython3",
   "version": "3.11.11"
  },
  "papermill": {
   "default_parameters": {},
   "duration": 66.205001,
   "end_time": "2025-06-24T11:09:47.260229",
   "environment_variables": {},
   "exception": null,
   "input_path": "__notebook__.ipynb",
   "output_path": "__notebook__.ipynb",
   "parameters": {},
   "start_time": "2025-06-24T11:08:41.055228",
   "version": "2.6.0"
  }
 },
 "nbformat": 4,
 "nbformat_minor": 5
}
