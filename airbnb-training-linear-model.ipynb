{
 "cells": [
  {
   "cell_type": "markdown",
   "id": "db01c871",
   "metadata": {
    "papermill": {
     "duration": 0.00416,
     "end_time": "2025-06-24T12:48:28.772991",
     "exception": false,
     "start_time": "2025-06-24T12:48:28.768831",
     "status": "completed"
    },
    "tags": []
   },
   "source": [
    "# Training the model"
   ]
  },
  {
   "cell_type": "code",
   "execution_count": 1,
   "id": "70215994",
   "metadata": {
    "_cell_guid": "b1076dfc-b9ad-4769-8c92-a6c4dae69d19",
    "_uuid": "8f2839f25d086af736a60e9eeb907d3b93b6e0e5",
    "execution": {
     "iopub.execute_input": "2025-06-24T12:48:28.780811Z",
     "iopub.status.busy": "2025-06-24T12:48:28.780527Z",
     "iopub.status.idle": "2025-06-24T12:48:28.786779Z",
     "shell.execute_reply": "2025-06-24T12:48:28.786079Z"
    },
    "papermill": {
     "duration": 0.01155,
     "end_time": "2025-06-24T12:48:28.787999",
     "exception": false,
     "start_time": "2025-06-24T12:48:28.776449",
     "status": "completed"
    },
    "tags": []
   },
   "outputs": [],
   "source": [
    "import os\n",
    "#for dirname, _, filenames in os.walk('/kaggle/input'):\n",
    "#    for filename in filenames:\n",
    "        #print(os.path.join(dirname, filename))\n"
   ]
  },
  {
   "cell_type": "code",
   "execution_count": 2,
   "id": "5cffa217",
   "metadata": {
    "execution": {
     "iopub.execute_input": "2025-06-24T12:48:28.795580Z",
     "iopub.status.busy": "2025-06-24T12:48:28.795378Z",
     "iopub.status.idle": "2025-06-24T12:48:35.756799Z",
     "shell.execute_reply": "2025-06-24T12:48:35.755943Z"
    },
    "papermill": {
     "duration": 6.966758,
     "end_time": "2025-06-24T12:48:35.758244",
     "exception": false,
     "start_time": "2025-06-24T12:48:28.791486",
     "status": "completed"
    },
    "tags": []
   },
   "outputs": [],
   "source": [
    "import os\n",
    "import numpy as np\n",
    "import pandas as pd\n",
    "import torch\n",
    "from torch import nn\n",
    "from torch.utils.data import Dataset, DataLoader, random_split\n",
    "from sklearn.model_selection import train_test_split\n",
    "from sklearn.impute import SimpleImputer\n",
    "import matplotlib.pyplot as plt\n",
    "\n",
    "#progress bar\n",
    "from tqdm import trange\n",
    "from tqdm import tqdm"
   ]
  },
  {
   "cell_type": "code",
   "execution_count": 3,
   "id": "c223de35",
   "metadata": {
    "execution": {
     "iopub.execute_input": "2025-06-24T12:48:35.766255Z",
     "iopub.status.busy": "2025-06-24T12:48:35.765883Z",
     "iopub.status.idle": "2025-06-24T12:48:35.855395Z",
     "shell.execute_reply": "2025-06-24T12:48:35.854729Z"
    },
    "papermill": {
     "duration": 0.094797,
     "end_time": "2025-06-24T12:48:35.856647",
     "exception": false,
     "start_time": "2025-06-24T12:48:35.761850",
     "status": "completed"
    },
    "tags": []
   },
   "outputs": [
    {
     "data": {
      "text/plain": [
       "(True, True, 1, 0)"
      ]
     },
     "execution_count": 3,
     "metadata": {},
     "output_type": "execute_result"
    }
   ],
   "source": [
    "torch.set_default_dtype(torch.float64)\n",
    "torch.cuda.is_available(), torch.backends.cudnn.is_available(), torch.cuda.device_count(), torch.cuda.current_device()"
   ]
  },
  {
   "cell_type": "code",
   "execution_count": 4,
   "id": "34f1c1b1",
   "metadata": {
    "execution": {
     "iopub.execute_input": "2025-06-24T12:48:35.864829Z",
     "iopub.status.busy": "2025-06-24T12:48:35.864431Z",
     "iopub.status.idle": "2025-06-24T12:48:35.869736Z",
     "shell.execute_reply": "2025-06-24T12:48:35.869030Z"
    },
    "papermill": {
     "duration": 0.010787,
     "end_time": "2025-06-24T12:48:35.871086",
     "exception": false,
     "start_time": "2025-06-24T12:48:35.860299",
     "status": "completed"
    },
    "tags": []
   },
   "outputs": [
    {
     "name": "stdout",
     "output_type": "stream",
     "text": [
      "Using device cuda:0\n"
     ]
    }
   ],
   "source": [
    "use_cuda = True\n",
    "use_cuda = False if not use_cuda else torch.cuda.is_available()\n",
    "device = torch.device('cuda:0' if use_cuda else 'cpu')\n",
    "torch.cuda.get_device_name(device) if use_cuda else 'cpu'\n",
    "print('Using device', device)"
   ]
  },
  {
   "cell_type": "markdown",
   "id": "42281077",
   "metadata": {
    "papermill": {
     "duration": 0.003231,
     "end_time": "2025-06-24T12:48:35.877836",
     "exception": false,
     "start_time": "2025-06-24T12:48:35.874605",
     "status": "completed"
    },
    "tags": []
   },
   "source": [
    "## Loading and preparing data"
   ]
  },
  {
   "cell_type": "code",
   "execution_count": 5,
   "id": "9c8f5c57",
   "metadata": {
    "execution": {
     "iopub.execute_input": "2025-06-24T12:48:35.885844Z",
     "iopub.status.busy": "2025-06-24T12:48:35.885418Z",
     "iopub.status.idle": "2025-06-24T12:48:42.125813Z",
     "shell.execute_reply": "2025-06-24T12:48:42.125171Z"
    },
    "papermill": {
     "duration": 6.245976,
     "end_time": "2025-06-24T12:48:42.127221",
     "exception": false,
     "start_time": "2025-06-24T12:48:35.881245",
     "status": "completed"
    },
    "tags": []
   },
   "outputs": [],
   "source": [
    "# Load and filter data\n",
    "data = pd.read_csv(\"/kaggle/input/airbnbdata-barcelona/listing_data.csv\")\n",
    "data = data.select_dtypes(exclude=['object', 'string'])\n",
    "data = data.drop(\"id\", axis=1)\n",
    "\n",
    "# Define target column\n",
    "target_clm = \"price\"\n",
    "\n",
    "# Drop rows with missing target\n",
    "data = data.dropna(subset=[target_clm])\n",
    "\n",
    "# Create an imputer that fills NaNs with the mean of each column\n",
    "imputer = SimpleImputer(strategy='mean')\n",
    "\n",
    "# Fit the imputer on your data and transform it\n",
    "data_imputed = imputer.fit_transform(data)\n",
    "\n",
    "# Convert back to DataFrame to keep column names\n",
    "data = pd.DataFrame(data_imputed, columns=data.columns)  "
   ]
  },
  {
   "cell_type": "code",
   "execution_count": 6,
   "id": "b48ef984",
   "metadata": {
    "execution": {
     "iopub.execute_input": "2025-06-24T12:48:42.135575Z",
     "iopub.status.busy": "2025-06-24T12:48:42.135116Z",
     "iopub.status.idle": "2025-06-24T12:48:42.666473Z",
     "shell.execute_reply": "2025-06-24T12:48:42.665834Z"
    },
    "papermill": {
     "duration": 0.536802,
     "end_time": "2025-06-24T12:48:42.667797",
     "exception": false,
     "start_time": "2025-06-24T12:48:42.130995",
     "status": "completed"
    },
    "tags": []
   },
   "outputs": [],
   "source": [
    "test_size = 0.2\n",
    "train_df, test_df = train_test_split(data, test_size=test_size, random_state=42)\n",
    "\n",
    "# Normalization stats from training data\n",
    "train_mean = train_df.drop(target_clm, axis=1).mean().astype(np.float32).values\n",
    "train_std = train_df.drop(target_clm, axis=1).std().replace(0, 1).astype(np.float32).values\n"
   ]
  },
  {
   "cell_type": "markdown",
   "id": "a70c22bb",
   "metadata": {
    "papermill": {
     "duration": 0.003207,
     "end_time": "2025-06-24T12:48:42.675031",
     "exception": false,
     "start_time": "2025-06-24T12:48:42.671824",
     "status": "completed"
    },
    "tags": []
   },
   "source": [
    "## Dataset"
   ]
  },
  {
   "cell_type": "code",
   "execution_count": 7,
   "id": "fc7c1911",
   "metadata": {
    "execution": {
     "iopub.execute_input": "2025-06-24T12:48:42.682595Z",
     "iopub.status.busy": "2025-06-24T12:48:42.682376Z",
     "iopub.status.idle": "2025-06-24T12:48:42.687750Z",
     "shell.execute_reply": "2025-06-24T12:48:42.687180Z"
    },
    "papermill": {
     "duration": 0.010463,
     "end_time": "2025-06-24T12:48:42.688751",
     "exception": false,
     "start_time": "2025-06-24T12:48:42.678288",
     "status": "completed"
    },
    "tags": []
   },
   "outputs": [],
   "source": [
    "class TabularDataset(Dataset):\n",
    "    def __init__(self, df, target_clm, mean=None, std=None, normalize=True):\n",
    "        self.X = df.drop(target_clm, axis=1).to_numpy(dtype=np.float32)\n",
    "        self.y = df[target_clm].to_numpy(dtype=np.float32)\n",
    "        self.mean = mean\n",
    "        self.std = std\n",
    "        self.normalize = normalize\n",
    "\n",
    "    def __len__(self):\n",
    "        return len(self.X)\n",
    "\n",
    "    def __getitem__(self, idx):\n",
    "        x = self.X[idx]\n",
    "        if self.normalize and self.mean is not None and self.std is not None:\n",
    "            x = (x - self.mean) / self.std\n",
    "        return torch.tensor(x, dtype=torch.float32), torch.tensor(self.y[idx], dtype=torch.float32)\n"
   ]
  },
  {
   "cell_type": "code",
   "execution_count": 8,
   "id": "c1421ffc",
   "metadata": {
    "execution": {
     "iopub.execute_input": "2025-06-24T12:48:42.696640Z",
     "iopub.status.busy": "2025-06-24T12:48:42.696078Z",
     "iopub.status.idle": "2025-06-24T12:48:42.875297Z",
     "shell.execute_reply": "2025-06-24T12:48:42.874708Z"
    },
    "papermill": {
     "duration": 0.184494,
     "end_time": "2025-06-24T12:48:42.876658",
     "exception": false,
     "start_time": "2025-06-24T12:48:42.692164",
     "status": "completed"
    },
    "tags": []
   },
   "outputs": [],
   "source": [
    "# Datasets\n",
    "train_dataset_full = TabularDataset(train_df, target_clm, train_mean, train_std, normalize=True)\n",
    "test_dataset = TabularDataset(test_df, target_clm, train_mean, train_std, normalize=True)\n",
    "\n",
    "# Split train/val\n",
    "torch.manual_seed(0)\n",
    "val_ratio = 0.1\n",
    "train_dataset, val_dataset = random_split(train_dataset_full, [1 - val_ratio, val_ratio])\n",
    "\n",
    "# DataLoaders\n",
    "batch_size = 128\n",
    "train_loader = DataLoader(train_dataset, batch_size=batch_size, shuffle=True)\n",
    "val_loader = DataLoader(val_dataset, batch_size=batch_size)\n",
    "test_loader = DataLoader(test_dataset, batch_size=batch_size)\n",
    "\n"
   ]
  },
  {
   "cell_type": "code",
   "execution_count": 9,
   "id": "37abd461",
   "metadata": {
    "execution": {
     "iopub.execute_input": "2025-06-24T12:48:42.884829Z",
     "iopub.status.busy": "2025-06-24T12:48:42.884462Z",
     "iopub.status.idle": "2025-06-24T12:48:42.888539Z",
     "shell.execute_reply": "2025-06-24T12:48:42.887855Z"
    },
    "papermill": {
     "duration": 0.009286,
     "end_time": "2025-06-24T12:48:42.889638",
     "exception": false,
     "start_time": "2025-06-24T12:48:42.880352",
     "status": "completed"
    },
    "tags": []
   },
   "outputs": [],
   "source": [
    "class LinearRegressionModel(nn.Module):\n",
    "    def __init__(self, input_dim):\n",
    "        super().__init__()\n",
    "        self.linear = nn.Linear(input_dim, 1)\n",
    "\n",
    "    def forward(self, x):\n",
    "        return self.linear(x).squeeze()  # Squeeze to match target shape\n"
   ]
  },
  {
   "cell_type": "code",
   "execution_count": 10,
   "id": "5aab9c0f",
   "metadata": {
    "execution": {
     "iopub.execute_input": "2025-06-24T12:48:42.897434Z",
     "iopub.status.busy": "2025-06-24T12:48:42.897005Z",
     "iopub.status.idle": "2025-06-24T12:48:47.486356Z",
     "shell.execute_reply": "2025-06-24T12:48:47.485801Z"
    },
    "papermill": {
     "duration": 4.594447,
     "end_time": "2025-06-24T12:48:47.487624",
     "exception": false,
     "start_time": "2025-06-24T12:48:42.893177",
     "status": "completed"
    },
    "tags": []
   },
   "outputs": [],
   "source": [
    "# Device setup\n",
    "device = torch.device(\"cuda\" if torch.cuda.is_available() else \"cpu\")\n",
    "\n",
    "# Instantiate model\n",
    "input_dim = train_df.drop(target_clm, axis=1).shape[1]\n",
    "model = LinearRegressionModel(input_dim).to(device)\n",
    "model = model.float()\n",
    "# Loss and optimizer\n",
    "criterion = nn.MSELoss()\n",
    "optimizer = torch.optim.Adam(model.parameters(), lr=0.01)\n"
   ]
  },
  {
   "cell_type": "code",
   "execution_count": 11,
   "id": "c91202e1",
   "metadata": {
    "execution": {
     "iopub.execute_input": "2025-06-24T12:48:47.495896Z",
     "iopub.status.busy": "2025-06-24T12:48:47.495519Z",
     "iopub.status.idle": "2025-06-24T12:48:47.675444Z",
     "shell.execute_reply": "2025-06-24T12:48:47.674128Z"
    },
    "papermill": {
     "duration": 0.185128,
     "end_time": "2025-06-24T12:48:47.676570",
     "exception": false,
     "start_time": "2025-06-24T12:48:47.491442",
     "status": "completed"
    },
    "tags": []
   },
   "outputs": [
    {
     "name": "stdout",
     "output_type": "stream",
     "text": [
      "Any NaN in features?  False\n",
      "Any NaN in target?  False\n"
     ]
    }
   ],
   "source": [
    "print(\"Any NaN in features? \", np.isnan(data.drop(target_clm, axis=1).to_numpy()).any())\n",
    "print(\"Any NaN in target? \", np.isnan(data[target_clm].to_numpy()).any())"
   ]
  },
  {
   "cell_type": "code",
   "execution_count": 12,
   "id": "0dd000b1",
   "metadata": {
    "execution": {
     "iopub.execute_input": "2025-06-24T12:48:47.684997Z",
     "iopub.status.busy": "2025-06-24T12:48:47.684773Z",
     "iopub.status.idle": "2025-06-24T12:48:47.689771Z",
     "shell.execute_reply": "2025-06-24T12:48:47.689050Z"
    },
    "papermill": {
     "duration": 0.010043,
     "end_time": "2025-06-24T12:48:47.690790",
     "exception": false,
     "start_time": "2025-06-24T12:48:47.680747",
     "status": "completed"
    },
    "tags": []
   },
   "outputs": [],
   "source": [
    "def train(dataloader, optimizer, model, loss_fn, device, master_bar):\n",
    "    model.train()\n",
    "    train_loss = 0.0\n",
    "    for batch in dataloader:\n",
    "        X, y = batch\n",
    "        X, y = X.to(device), y.to(device)\n",
    "\n",
    "        #Forward pass\n",
    "        optimizer.zero_grad()\n",
    "        outputs = model(X)\n",
    "        loss = loss_fn(outputs, y)\n",
    "\n",
    "        #Backward pass\n",
    "        loss.backward()\n",
    "        optimizer.step()\n",
    "\n",
    "        #calculate step quality\n",
    "        train_loss += loss.item()\n",
    "\n",
    "        master_bar.set_description(f\"Epoch {master_bar.n + 1} (Train)\")\n",
    "        master_bar.set_postfix(loss=f\"{loss.item():.3f}\")\n",
    "\n",
    "    return train_loss / len(dataloader)\n",
    "\n",
    "        "
   ]
  },
  {
   "cell_type": "code",
   "execution_count": 13,
   "id": "acc426e3",
   "metadata": {
    "execution": {
     "iopub.execute_input": "2025-06-24T12:48:47.698386Z",
     "iopub.status.busy": "2025-06-24T12:48:47.698153Z",
     "iopub.status.idle": "2025-06-24T12:48:47.702643Z",
     "shell.execute_reply": "2025-06-24T12:48:47.701973Z"
    },
    "papermill": {
     "duration": 0.009473,
     "end_time": "2025-06-24T12:48:47.703698",
     "exception": false,
     "start_time": "2025-06-24T12:48:47.694225",
     "status": "completed"
    },
    "tags": []
   },
   "outputs": [],
   "source": [
    "def validate(dataloader, model, loss_fn, device, master_bar):\n",
    "    model.eval()\n",
    "    val_loss = 0\n",
    "\n",
    "    with torch.no_grad():\n",
    "        for batch in dataloader:\n",
    "            X, y = batch\n",
    "            X, y = X.to(device), y.to(device)\n",
    "\n",
    "            #validate\n",
    "            outputs = model(X)\n",
    "            loss = loss_fn(outputs, y)\n",
    "            val_loss += loss.item()\n",
    "\n",
    "            master_bar.set_description(f\"Epoch {master_bar.n + 1} (Validate)\")\n",
    "            master_bar.set_postfix(loss=f\"{loss.item():.3f}\")\n",
    "    \n",
    "    return val_loss / len(dataloader)"
   ]
  },
  {
   "cell_type": "code",
   "execution_count": 14,
   "id": "1817c1d8",
   "metadata": {
    "execution": {
     "iopub.execute_input": "2025-06-24T12:48:47.711367Z",
     "iopub.status.busy": "2025-06-24T12:48:47.711081Z",
     "iopub.status.idle": "2025-06-24T12:48:47.715375Z",
     "shell.execute_reply": "2025-06-24T12:48:47.714709Z"
    },
    "papermill": {
     "duration": 0.009417,
     "end_time": "2025-06-24T12:48:47.716475",
     "exception": false,
     "start_time": "2025-06-24T12:48:47.707058",
     "status": "completed"
    },
    "tags": []
   },
   "outputs": [],
   "source": [
    "def run_training(model, optimizer, loss_function, device, num_epochs, train_dataloader, val_dataloader):\n",
    "    train_losses = []\n",
    "    val_losses = []\n",
    "\n",
    "    master_bar = trange(num_epochs, desc=\"Training Epochs\")\n",
    "    for epoch in master_bar:\n",
    "        train_loss = train(train_dataloader, optimizer, model, loss_function, device, master_bar)\n",
    "        val_loss = validate(val_dataloader, model, loss_function, device, master_bar)\n",
    "\n",
    "        train_losses.append(train_loss)\n",
    "        val_losses.append(val_loss)\n",
    "\n",
    "    return train_losses, val_losses"
   ]
  },
  {
   "cell_type": "code",
   "execution_count": 15,
   "id": "10421f5a",
   "metadata": {
    "execution": {
     "iopub.execute_input": "2025-06-24T12:48:47.723998Z",
     "iopub.status.busy": "2025-06-24T12:48:47.723785Z",
     "iopub.status.idle": "2025-06-24T12:48:47.727782Z",
     "shell.execute_reply": "2025-06-24T12:48:47.727295Z"
    },
    "papermill": {
     "duration": 0.008919,
     "end_time": "2025-06-24T12:48:47.728798",
     "exception": false,
     "start_time": "2025-06-24T12:48:47.719879",
     "status": "completed"
    },
    "tags": []
   },
   "outputs": [],
   "source": [
    "def evaluate_model(model, dataloader, device):\n",
    "    model.eval()\n",
    "    model.to(device)\n",
    "    absolute_errors = []\n",
    "\n",
    "    with torch.no_grad():\n",
    "        for batch in dataloader:\n",
    "            # Assumes batch is (inputs, targets)\n",
    "            inputs, targets = batch\n",
    "            inputs, targets = inputs.to(device), targets.to(device)\n",
    "\n",
    "            predictions = model(inputs)\n",
    "            abs_errors = abs(predictions - targets)\n",
    "            \n",
    "            absolute_errors.extend(abs_errors.cpu().numpy())\n",
    "\n",
    "    return np.array(absolute_errors)"
   ]
  },
  {
   "cell_type": "code",
   "execution_count": 16,
   "id": "caa522f5",
   "metadata": {
    "execution": {
     "iopub.execute_input": "2025-06-24T12:48:47.736453Z",
     "iopub.status.busy": "2025-06-24T12:48:47.736081Z",
     "iopub.status.idle": "2025-06-24T12:48:47.740906Z",
     "shell.execute_reply": "2025-06-24T12:48:47.740191Z"
    },
    "papermill": {
     "duration": 0.009807,
     "end_time": "2025-06-24T12:48:47.741952",
     "exception": false,
     "start_time": "2025-06-24T12:48:47.732145",
     "status": "completed"
    },
    "tags": []
   },
   "outputs": [],
   "source": [
    "def plot_accuracy(errors, bins = 10, min_range = None, max_range = None):\n",
    "\n",
    "    if min_range is None:\n",
    "        min_range = min(errors)\n",
    "    if max_range is None:\n",
    "        max_range = max(errors)\n",
    "\n",
    "    counts, bin_edges = np.histogram(errors, bins=bins, range=(min_range, max_range))\n",
    "\n",
    "    percentages = 100 * counts / counts.sum()\n",
    "\n",
    "    bin_widths = bin_edges[1:] - bin_edges[:-1]\n",
    "\n",
    "    plt.bar(bin_edges[:-1], percentages, width = bin_widths, align = 'edge', edgecolor='black')\n",
    "    plt.xlabel(\"Absolute Error\")\n",
    "    plt.ylabel(\"Percentage (%)\")\n",
    "    plt.title(\"Percentage Distribution of Absolute Errors\")\n",
    "    \n",
    "    #plt.hist(errors, bins, range=(min_range, max_range), density=True)\n",
    "    plt.grid(True)\n",
    "    plt.show() "
   ]
  },
  {
   "cell_type": "code",
   "execution_count": 17,
   "id": "f39efbfd",
   "metadata": {
    "execution": {
     "iopub.execute_input": "2025-06-24T12:48:47.749714Z",
     "iopub.status.busy": "2025-06-24T12:48:47.749315Z",
     "iopub.status.idle": "2025-06-24T12:49:21.398709Z",
     "shell.execute_reply": "2025-06-24T12:49:21.398153Z"
    },
    "papermill": {
     "duration": 33.654382,
     "end_time": "2025-06-24T12:49:21.399842",
     "exception": false,
     "start_time": "2025-06-24T12:48:47.745460",
     "status": "completed"
    },
    "tags": []
   },
   "outputs": [
    {
     "name": "stderr",
     "output_type": "stream",
     "text": [
      "Epoch 30 (Validate): 100%|██████████| 30/30 [00:33<00:00,  1.12s/it, loss=20148.656]\n"
     ]
    },
    {
     "data": {
      "text/plain": [
       "([98187.31823508523,\n",
       "  95730.27414772728,\n",
       "  94238.40447443182,\n",
       "  92570.79653764205,\n",
       "  91405.28625710227,\n",
       "  90781.19638671874,\n",
       "  89387.10639204546,\n",
       "  88890.80958806818,\n",
       "  87850.16787109376,\n",
       "  87216.86732066762,\n",
       "  86381.19244495739,\n",
       "  86286.57353515625,\n",
       "  85523.41254438921,\n",
       "  84729.20263671875,\n",
       "  84093.43100142045,\n",
       "  83555.15596590909,\n",
       "  83207.73271484375,\n",
       "  82642.01211825284,\n",
       "  82212.97687322443,\n",
       "  81738.07708629261,\n",
       "  81719.76941583806,\n",
       "  80998.99610262785,\n",
       "  80546.19159268466,\n",
       "  80235.50479403409,\n",
       "  79812.21560724432,\n",
       "  79433.25691583806,\n",
       "  83997.52802734375,\n",
       "  78761.73286576704,\n",
       "  78556.04343927557,\n",
       "  78081.6126065341],\n",
       " [114213.56512920673,\n",
       "  114612.86899038461,\n",
       "  115798.93719951923,\n",
       "  117592.99812199519,\n",
       "  120083.857421875,\n",
       "  123173.25826322116,\n",
       "  126820.61989182692,\n",
       "  131142.53740985578,\n",
       "  135934.26690204328,\n",
       "  141173.73121995194,\n",
       "  147023.44921875,\n",
       "  153389.0390625,\n",
       "  160274.37387319712,\n",
       "  167492.27373798078,\n",
       "  175276.4696514423,\n",
       "  183595.66233473556,\n",
       "  192378.22220552884,\n",
       "  201729.82669771634,\n",
       "  211441.39272836538,\n",
       "  221657.8036358173,\n",
       "  232216.51412259616,\n",
       "  243201.69478665866,\n",
       "  254983.1836688702,\n",
       "  267095.16473858175,\n",
       "  279606.22107872594,\n",
       "  292330.98768028844,\n",
       "  305692.62109375,\n",
       "  319655.14220252406,\n",
       "  333759.9750600961,\n",
       "  348812.5126201923])"
      ]
     },
     "execution_count": 17,
     "metadata": {},
     "output_type": "execute_result"
    }
   ],
   "source": [
    "epochs=30\n",
    "\n",
    "run_training(model, optimizer, criterion, device, epochs, train_loader, val_loader)\n",
    "\n"
   ]
  },
  {
   "cell_type": "code",
   "execution_count": 18,
   "id": "b8622310",
   "metadata": {
    "execution": {
     "iopub.execute_input": "2025-06-24T12:49:21.999125Z",
     "iopub.status.busy": "2025-06-24T12:49:21.998849Z",
     "iopub.status.idle": "2025-06-24T12:49:22.373719Z",
     "shell.execute_reply": "2025-06-24T12:49:22.373064Z"
    },
    "papermill": {
     "duration": 0.673954,
     "end_time": "2025-06-24T12:49:22.374972",
     "exception": false,
     "start_time": "2025-06-24T12:49:21.701018",
     "status": "completed"
    },
    "tags": []
   },
   "outputs": [
    {
     "data": {
      "image/png": "[encoded data removed]",
      "text/plain": [
       "<Figure size 640x480 with 1 Axes>"
      ]
     },
     "metadata": {},
     "output_type": "display_data"
    }
   ],
   "source": [
    "#evaluate\n",
    "err = evaluate_model(model, test_loader, device)\n",
    "plot_accuracy(err, bins = 5, min_range = 0, max_range = 300)"
   ]
  },
  {
   "cell_type": "code",
   "execution_count": 19,
   "id": "9c5b8d3f",
   "metadata": {
    "execution": {
     "iopub.execute_input": "2025-06-24T12:49:23.017044Z",
     "iopub.status.busy": "2025-06-24T12:49:23.016372Z",
     "iopub.status.idle": "2025-06-24T12:49:56.310236Z",
     "shell.execute_reply": "2025-06-24T12:49:56.309650Z"
    },
    "papermill": {
     "duration": 33.591059,
     "end_time": "2025-06-24T12:49:56.311506",
     "exception": false,
     "start_time": "2025-06-24T12:49:22.720447",
     "status": "completed"
    },
    "tags": []
   },
   "outputs": [
    {
     "name": "stderr",
     "output_type": "stream",
     "text": [
      "Epoch 30 (Validate): 100%|██████████| 30/30 [00:33<00:00,  1.10s/it, loss=19701.113]\n"
     ]
    },
    {
     "data": {
      "image/png": "[encoded data removed]",
      "text/plain": [
       "<Figure size 640x480 with 1 Axes>"
      ]
     },
     "metadata": {},
     "output_type": "display_data"
    }
   ],
   "source": [
    "#Testing other optimizers (Adagrad is very efficient for our sparse data)\n",
    "optimizer = torch.optim.Adagrad(model.parameters())\n",
    "epochs=30\n",
    "\n",
    "run_training(model, optimizer, criterion, device, epochs, train_loader, val_loader)\n",
    "err = evaluate_model(model, test_loader, device)\n",
    "plot_accuracy(err, bins = 5, min_range = 0, max_range = 300)"
   ]
  },
  {
   "cell_type": "markdown",
   "id": "9a06163b",
   "metadata": {
    "papermill": {
     "duration": 0.635027,
     "end_time": "2025-06-24T12:49:57.533367",
     "exception": false,
     "start_time": "2025-06-24T12:49:56.898340",
     "status": "completed"
    },
    "tags": []
   },
   "source": [
    "## Training utility"
   ]
  },
  {
   "cell_type": "code",
   "execution_count": 20,
   "id": "fe1e9d5d",
   "metadata": {
    "execution": {
     "iopub.execute_input": "2025-06-24T12:49:58.782521Z",
     "iopub.status.busy": "2025-06-24T12:49:58.781230Z",
     "iopub.status.idle": "2025-06-24T12:50:15.408122Z",
     "shell.execute_reply": "2025-06-24T12:50:15.407303Z"
    },
    "papermill": {
     "duration": 17.230935,
     "end_time": "2025-06-24T12:50:15.409567",
     "exception": false,
     "start_time": "2025-06-24T12:49:58.178632",
     "status": "completed"
    },
    "tags": []
   },
   "outputs": [
    {
     "name": "stdout",
     "output_type": "stream",
     "text": [
      "Epoch 01 | Train Loss: 77406.8314 | Val Loss: 365807.2603\n",
      "Epoch 02 | Train Loss: 77518.8495 | Val Loss: 366093.0578\n",
      "Epoch 03 | Train Loss: 77358.0857 | Val Loss: 366371.6540\n",
      "Epoch 04 | Train Loss: 77999.1708 | Val Loss: 366650.9295\n",
      "Epoch 05 | Train Loss: 77390.3302 | Val Loss: 366922.0513\n",
      "Epoch 06 | Train Loss: 77560.8815 | Val Loss: 367190.3878\n",
      "Epoch 07 | Train Loss: 77329.5689 | Val Loss: 367454.7973\n",
      "Epoch 08 | Train Loss: 77351.1258 | Val Loss: 367716.7776\n",
      "Epoch 09 | Train Loss: 77335.1413 | Val Loss: 367975.2539\n",
      "Epoch 10 | Train Loss: 77328.3270 | Val Loss: 368229.7918\n",
      "Epoch 11 | Train Loss: 77300.2629 | Val Loss: 368482.1080\n",
      "Epoch 12 | Train Loss: 77350.4804 | Val Loss: 368733.1086\n",
      "Epoch 13 | Train Loss: 77322.2132 | Val Loss: 368979.6148\n",
      "Epoch 14 | Train Loss: 77317.8193 | Val Loss: 369223.5213\n",
      "Epoch 15 | Train Loss: 77381.3709 | Val Loss: 369465.3678\n",
      "Epoch 16 | Train Loss: 77409.8088 | Val Loss: 369704.0172\n",
      "Epoch 17 | Train Loss: 77318.7943 | Val Loss: 369939.9422\n",
      "Epoch 18 | Train Loss: 77429.3912 | Val Loss: 370171.8053\n",
      "Epoch 19 | Train Loss: 77299.2977 | Val Loss: 370403.3797\n",
      "Epoch 20 | Train Loss: 77645.9222 | Val Loss: 370633.5475\n"
     ]
    }
   ],
   "source": [
    "epochs = 20\n",
    "for epoch in range(epochs):\n",
    "    model.train()\n",
    "    train_loss = 0.0\n",
    "\n",
    "    for X_batch, y_batch in train_loader:\n",
    "        X_batch = X_batch.to(device).float()\n",
    "        y_batch = y_batch.to(device).float()\n",
    "        \n",
    "        preds = model(X_batch)\n",
    "        loss = criterion(preds, y_batch)\n",
    "\n",
    "        optimizer.zero_grad()\n",
    "        loss.backward()\n",
    "        optimizer.step()\n",
    "\n",
    "        train_loss += loss.item()\n",
    "\n",
    "    model.eval()\n",
    "    val_loss = 0.0\n",
    "    with torch.no_grad():\n",
    "        for X_val, y_val in val_loader:\n",
    "            X_val = X_val.to(device).float()\n",
    "            y_val = y_val.to(device).float()\n",
    "\n",
    "            val_preds = model(X_val)\n",
    "            val_loss += criterion(val_preds, y_val).item()\n",
    "\n",
    "    print(f\"Epoch {epoch+1:02d} | Train Loss: {train_loss/len(train_loader):.4f} | Val Loss: {val_loss/len(val_loader):.4f}\")\n"
   ]
  }
 ],
 "metadata": {
  "kaggle": {
   "accelerator": "gpu",
   "dataSources": [
    {
     "datasetId": 7719588,
     "sourceId": 12251642,
     "sourceType": "datasetVersion"
    },
    {
     "datasetId": 7715214,
     "sourceId": 12265748,
     "sourceType": "datasetVersion"
    }
   ],
   "dockerImageVersionId": 31041,
   "isGpuEnabled": true,
   "isInternetEnabled": true,
   "language": "python",
   "sourceType": "notebook"
  },
  "kernelspec": {
   "display_name": "Python 3",
   "language": "python",
   "name": "python3"
  },
  "language_info": {
   "codemirror_mode": {
    "name": "ipython",
    "version": 3
   },
   "file_extension": ".py",
   "mimetype": "text/x-python",
   "name": "python",
   "nbconvert_exporter": "python",
   "pygments_lexer": "ipython3",
   "version": "3.11.11"
  },
  "papermill": {
   "default_parameters": {},
   "duration": 114.324335,
   "end_time": "2025-06-24T12:50:18.970157",
   "environment_variables": {},
   "exception": null,
   "input_path": "__notebook__.ipynb",
   "output_path": "__notebook__.ipynb",
   "parameters": {},
   "start_time": "2025-06-24T12:48:24.645822",
   "version": "2.6.0"
  }
 },
 "nbformat": 4,
 "nbformat_minor": 5
}
